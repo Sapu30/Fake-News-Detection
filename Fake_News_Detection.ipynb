{
 "cells": [
  {
   "cell_type": "code",
   "execution_count": 1,
   "id": "natural-athletics",
   "metadata": {},
   "outputs": [],
   "source": [
    "import pandas as pd\n",
    "import numpy as np\n",
    "import seaborn as sns\n",
    "import matplotlib.pyplot as plt\n",
    "from sklearn.model_selection import train_test_split\n",
    "from sklearn.metrics import accuracy_score\n",
    "from sklearn.metrics import classification_report\n",
    "import re\n",
    "import string"
   ]
  },
  {
   "cell_type": "code",
   "execution_count": 2,
   "id": "numeric-pitch",
   "metadata": {},
   "outputs": [],
   "source": [
    "df_fake = pd.read_csv(\"https://raw.githubusercontent.com/KaiDMML/FakeNewsNet/master/dataset/gossipcop_fake.csv\") \n",
    "df_true = pd.read_csv(\"https://raw.githubusercontent.com/KaiDMML/FakeNewsNet/master/dataset/gossipcop_real.csv\")"
   ]
  },
  {
   "cell_type": "code",
   "execution_count": 3,
   "id": "seven-mozambique",
   "metadata": {},
   "outputs": [
    {
     "output_type": "execute_result",
     "data": {
      "text/plain": [
       "                     id                                           news_url  \\\n",
       "0  gossipcop-2493749932  www.dailymail.co.uk/tvshowbiz/article-5874213/...   \n",
       "1  gossipcop-4580247171  hollywoodlife.com/2018/05/05/paris-jackson-car...   \n",
       "2   gossipcop-941805037  variety.com/2017/biz/news/tax-march-donald-tru...   \n",
       "3  gossipcop-2547891536  www.dailymail.co.uk/femail/article-3499192/Do-...   \n",
       "4  gossipcop-5476631226  variety.com/2018/film/news/list-2018-oscar-nom...   \n",
       "\n",
       "                                               title  \\\n",
       "0  Did Miley Cyrus and Liam Hemsworth secretly ge...   \n",
       "1  Paris Jackson & Cara Delevingne Enjoy Night Ou...   \n",
       "2  Celebrities Join Tax March in Protest of Donal...   \n",
       "3  Cindy Crawford's daughter Kaia Gerber wears a ...   \n",
       "4      Full List of 2018 Oscar Nominations – Variety   \n",
       "\n",
       "                                           tweet_ids  \n",
       "0  284329075902926848\\t284332744559968256\\t284335...  \n",
       "1  992895508267130880\\t992897935418503169\\t992899...  \n",
       "2  853359353532829696\\t853359576543920128\\t853359...  \n",
       "3  988821905196158981\\t988824206556172288\\t988825...  \n",
       "4  955792793632432131\\t955795063925301249\\t955798...  "
      ],
      "text/html": "<div>\n<style scoped>\n    .dataframe tbody tr th:only-of-type {\n        vertical-align: middle;\n    }\n\n    .dataframe tbody tr th {\n        vertical-align: top;\n    }\n\n    .dataframe thead th {\n        text-align: right;\n    }\n</style>\n<table border=\"1\" class=\"dataframe\">\n  <thead>\n    <tr style=\"text-align: right;\">\n      <th></th>\n      <th>id</th>\n      <th>news_url</th>\n      <th>title</th>\n      <th>tweet_ids</th>\n    </tr>\n  </thead>\n  <tbody>\n    <tr>\n      <th>0</th>\n      <td>gossipcop-2493749932</td>\n      <td>www.dailymail.co.uk/tvshowbiz/article-5874213/...</td>\n      <td>Did Miley Cyrus and Liam Hemsworth secretly ge...</td>\n      <td>284329075902926848\\t284332744559968256\\t284335...</td>\n    </tr>\n    <tr>\n      <th>1</th>\n      <td>gossipcop-4580247171</td>\n      <td>hollywoodlife.com/2018/05/05/paris-jackson-car...</td>\n      <td>Paris Jackson &amp; Cara Delevingne Enjoy Night Ou...</td>\n      <td>992895508267130880\\t992897935418503169\\t992899...</td>\n    </tr>\n    <tr>\n      <th>2</th>\n      <td>gossipcop-941805037</td>\n      <td>variety.com/2017/biz/news/tax-march-donald-tru...</td>\n      <td>Celebrities Join Tax March in Protest of Donal...</td>\n      <td>853359353532829696\\t853359576543920128\\t853359...</td>\n    </tr>\n    <tr>\n      <th>3</th>\n      <td>gossipcop-2547891536</td>\n      <td>www.dailymail.co.uk/femail/article-3499192/Do-...</td>\n      <td>Cindy Crawford's daughter Kaia Gerber wears a ...</td>\n      <td>988821905196158981\\t988824206556172288\\t988825...</td>\n    </tr>\n    <tr>\n      <th>4</th>\n      <td>gossipcop-5476631226</td>\n      <td>variety.com/2018/film/news/list-2018-oscar-nom...</td>\n      <td>Full List of 2018 Oscar Nominations – Variety</td>\n      <td>955792793632432131\\t955795063925301249\\t955798...</td>\n    </tr>\n  </tbody>\n</table>\n</div>"
     },
     "metadata": {},
     "execution_count": 3
    }
   ],
   "source": [
    "df_fake.head(5)"
   ]
  },
  {
   "cell_type": "code",
   "execution_count": 4,
   "id": "multiple-hungarian",
   "metadata": {},
   "outputs": [
    {
     "output_type": "execute_result",
     "data": {
      "text/plain": [
       "                 id                                           news_url  \\\n",
       "0  gossipcop-882573  https://www.brides.com/story/teen-mom-jenelle-...   \n",
       "1  gossipcop-875924  https://www.dailymail.co.uk/tvshowbiz/article-...   \n",
       "2  gossipcop-894416        https://en.wikipedia.org/wiki/Quinn_Perkins   \n",
       "3  gossipcop-857248  https://www.refinery29.com/en-us/2018/03/19192...   \n",
       "4  gossipcop-884684  https://www.cnn.com/2017/10/04/entertainment/c...   \n",
       "\n",
       "                                               title  \\\n",
       "0  Teen Mom Star Jenelle Evans' Wedding Dress Is ...   \n",
       "1  Kylie Jenner refusing to discuss Tyga on Life ...   \n",
       "2                                      Quinn Perkins   \n",
       "3  I Tried Kim Kardashian's Butt Workout & Am For...   \n",
       "4  Celine Dion donates concert proceeds to Vegas ...   \n",
       "\n",
       "                                           tweet_ids  \n",
       "0  912371411146149888\\t912371528343408641\\t912372...  \n",
       "1  901989917546426369\\t901989992074969089\\t901990...  \n",
       "2  931263637246881792\\t931265332022579201\\t931265...  \n",
       "3  868114761723936769\\t868122567910936576\\t868128...  \n",
       "4  915528047004209152\\t915529285171122176\\t915530...  "
      ],
      "text/html": "<div>\n<style scoped>\n    .dataframe tbody tr th:only-of-type {\n        vertical-align: middle;\n    }\n\n    .dataframe tbody tr th {\n        vertical-align: top;\n    }\n\n    .dataframe thead th {\n        text-align: right;\n    }\n</style>\n<table border=\"1\" class=\"dataframe\">\n  <thead>\n    <tr style=\"text-align: right;\">\n      <th></th>\n      <th>id</th>\n      <th>news_url</th>\n      <th>title</th>\n      <th>tweet_ids</th>\n    </tr>\n  </thead>\n  <tbody>\n    <tr>\n      <th>0</th>\n      <td>gossipcop-882573</td>\n      <td>https://www.brides.com/story/teen-mom-jenelle-...</td>\n      <td>Teen Mom Star Jenelle Evans' Wedding Dress Is ...</td>\n      <td>912371411146149888\\t912371528343408641\\t912372...</td>\n    </tr>\n    <tr>\n      <th>1</th>\n      <td>gossipcop-875924</td>\n      <td>https://www.dailymail.co.uk/tvshowbiz/article-...</td>\n      <td>Kylie Jenner refusing to discuss Tyga on Life ...</td>\n      <td>901989917546426369\\t901989992074969089\\t901990...</td>\n    </tr>\n    <tr>\n      <th>2</th>\n      <td>gossipcop-894416</td>\n      <td>https://en.wikipedia.org/wiki/Quinn_Perkins</td>\n      <td>Quinn Perkins</td>\n      <td>931263637246881792\\t931265332022579201\\t931265...</td>\n    </tr>\n    <tr>\n      <th>3</th>\n      <td>gossipcop-857248</td>\n      <td>https://www.refinery29.com/en-us/2018/03/19192...</td>\n      <td>I Tried Kim Kardashian's Butt Workout &amp; Am For...</td>\n      <td>868114761723936769\\t868122567910936576\\t868128...</td>\n    </tr>\n    <tr>\n      <th>4</th>\n      <td>gossipcop-884684</td>\n      <td>https://www.cnn.com/2017/10/04/entertainment/c...</td>\n      <td>Celine Dion donates concert proceeds to Vegas ...</td>\n      <td>915528047004209152\\t915529285171122176\\t915530...</td>\n    </tr>\n  </tbody>\n</table>\n</div>"
     },
     "metadata": {},
     "execution_count": 4
    }
   ],
   "source": [
    "df_true.head(5)"
   ]
  },
  {
   "cell_type": "code",
   "execution_count": 5,
   "id": "going-mills",
   "metadata": {},
   "outputs": [],
   "source": [
    "df_fake[\"label\"] = \"FAKE\"\n",
    "df_true[\"label\"] = \"TRUE\""
   ]
  },
  {
   "cell_type": "code",
   "execution_count": 6,
   "id": "asian-editor",
   "metadata": {},
   "outputs": [
    {
     "output_type": "execute_result",
     "data": {
      "text/plain": [
       "((5323, 5), (16817, 5))"
      ]
     },
     "metadata": {},
     "execution_count": 6
    }
   ],
   "source": [
    "df_fake.shape, df_true.shape"
   ]
  },
  {
   "cell_type": "code",
   "execution_count": 7,
   "id": "fitting-thread",
   "metadata": {},
   "outputs": [],
   "source": [
    "df_fake_manual_testing = df_fake.tail(10)\n",
    "for i in range(5322,5312,-1):\n",
    "    df_fake.drop([i], axis = 0, inplace = True)\n",
    "df_true_manual_testing = df_true.tail(10)\n",
    "for i in range(16816,16806,-1):\n",
    "    df_true.drop([i], axis = 0, inplace = True)"
   ]
  },
  {
   "cell_type": "code",
   "execution_count": 8,
   "id": "eight-tribute",
   "metadata": {},
   "outputs": [],
   "source": [
    "df_manual_testing = pd.concat([df_fake_manual_testing,df_true_manual_testing], axis = 0)\n",
    "df_manual_testing.to_csv(\"manual_testing.csv\")"
   ]
  },
  {
   "cell_type": "code",
   "execution_count": 9,
   "id": "prescription-norwegian",
   "metadata": {},
   "outputs": [],
   "source": [
    "k=pd.read_csv(\"manual_testing.csv\")"
   ]
  },
  {
   "cell_type": "code",
   "execution_count": 10,
   "id": "single-warrior",
   "metadata": {},
   "outputs": [
    {
     "output_type": "execute_result",
     "data": {
      "text/plain": [
       "   Unnamed: 0                    id  \\\n",
       "0        5313  gossipcop-6844103138   \n",
       "1        5314  gossipcop-7855996289   \n",
       "2        5315  gossipcop-1761345281   \n",
       "3        5316  gossipcop-7259603960   \n",
       "4        5317  gossipcop-2194208436   \n",
       "5        5318  gossipcop-6702260693   \n",
       "6        5319  gossipcop-6051845337   \n",
       "7        5320  gossipcop-2435526162   \n",
       "8        5321  gossipcop-4576152851   \n",
       "9        5322   gossipcop-919334865   \n",
       "\n",
       "                                            news_url  \\\n",
       "0  www.foxnews.com/entertainment/2017/08/17/tom-c...   \n",
       "1  www.dailymail.co.uk/tvshowbiz/article-5765893/...   \n",
       "2  www.cbs8.com/story/34968239/the-voice-blake-sh...   \n",
       "3   www.thebudgetbabe.com/categories/64-Jessica-Alba   \n",
       "4  www.hollywoodreporter.com/news/battle-sexes-pr...   \n",
       "5  www.huffingtonpost.com/2012/09/11/september-11...   \n",
       "6  www.dailymail.co.uk/news/article-4915674/NASCA...   \n",
       "7  www.telegraph.co.uk/men/the-filter/7-signs-dav...   \n",
       "8  www.vanityfair.com/style/2016/09/ryan-gosling-...   \n",
       "9  www.lifeandstylemag.com/posts/jamie-foxx-katie...   \n",
       "\n",
       "                                               title  \\\n",
       "0       Tom Cruise is 'diabolical,' says Leah Remini   \n",
       "1  Angelina Jolie 'furious she can't take her chi...   \n",
       "2  'The Voice': Blake Shelton Gets Jealous as Gwe...   \n",
       "3                    Affordable Fashion & Style Blog   \n",
       "4  'Battle of the Sexes' Premiere: Emma Stone on ...   \n",
       "5   September 11: Celebrities Remember 9/11 (TWEETS)   \n",
       "6  NASCAR owners threaten to fire drivers who pro...   \n",
       "7  The 7 signs that David Beckham is definitely h...   \n",
       "8  Ryan Gosling and Eva Mendes Did Not Get Marrie...   \n",
       "9  Jamie Foxx Spends the Day With Katie Holmes an...   \n",
       "\n",
       "                                           tweet_ids label  \n",
       "0  897885664091492357\\t897886019877523462\\t897886...  FAKE  \n",
       "1                                 999612553486577664  FAKE  \n",
       "2  845327633655255041\\t845333603957518337\\t845335...  FAKE  \n",
       "3  1237917051\\t1432369293\\t1515306142\\t1939329774...  FAKE  \n",
       "4  909553415684067328\\t909587019269013504\\t909623...  FAKE  \n",
       "5                                 245643768638894080  FAKE  \n",
       "6  912048333413330944\\t912048571482087424\\t912049...  FAKE  \n",
       "7  897794716447539200\\t897804460830928896\\t897842...  FAKE  \n",
       "8  778678901572710400\\t778681718714740736\\t778683...  FAKE  \n",
       "9  913137595424608258\\t913139996059717632\\t913146...  FAKE  "
      ],
      "text/html": "<div>\n<style scoped>\n    .dataframe tbody tr th:only-of-type {\n        vertical-align: middle;\n    }\n\n    .dataframe tbody tr th {\n        vertical-align: top;\n    }\n\n    .dataframe thead th {\n        text-align: right;\n    }\n</style>\n<table border=\"1\" class=\"dataframe\">\n  <thead>\n    <tr style=\"text-align: right;\">\n      <th></th>\n      <th>Unnamed: 0</th>\n      <th>id</th>\n      <th>news_url</th>\n      <th>title</th>\n      <th>tweet_ids</th>\n      <th>label</th>\n    </tr>\n  </thead>\n  <tbody>\n    <tr>\n      <th>0</th>\n      <td>5313</td>\n      <td>gossipcop-6844103138</td>\n      <td>www.foxnews.com/entertainment/2017/08/17/tom-c...</td>\n      <td>Tom Cruise is 'diabolical,' says Leah Remini</td>\n      <td>897885664091492357\\t897886019877523462\\t897886...</td>\n      <td>FAKE</td>\n    </tr>\n    <tr>\n      <th>1</th>\n      <td>5314</td>\n      <td>gossipcop-7855996289</td>\n      <td>www.dailymail.co.uk/tvshowbiz/article-5765893/...</td>\n      <td>Angelina Jolie 'furious she can't take her chi...</td>\n      <td>999612553486577664</td>\n      <td>FAKE</td>\n    </tr>\n    <tr>\n      <th>2</th>\n      <td>5315</td>\n      <td>gossipcop-1761345281</td>\n      <td>www.cbs8.com/story/34968239/the-voice-blake-sh...</td>\n      <td>'The Voice': Blake Shelton Gets Jealous as Gwe...</td>\n      <td>845327633655255041\\t845333603957518337\\t845335...</td>\n      <td>FAKE</td>\n    </tr>\n    <tr>\n      <th>3</th>\n      <td>5316</td>\n      <td>gossipcop-7259603960</td>\n      <td>www.thebudgetbabe.com/categories/64-Jessica-Alba</td>\n      <td>Affordable Fashion &amp; Style Blog</td>\n      <td>1237917051\\t1432369293\\t1515306142\\t1939329774...</td>\n      <td>FAKE</td>\n    </tr>\n    <tr>\n      <th>4</th>\n      <td>5317</td>\n      <td>gossipcop-2194208436</td>\n      <td>www.hollywoodreporter.com/news/battle-sexes-pr...</td>\n      <td>'Battle of the Sexes' Premiere: Emma Stone on ...</td>\n      <td>909553415684067328\\t909587019269013504\\t909623...</td>\n      <td>FAKE</td>\n    </tr>\n    <tr>\n      <th>5</th>\n      <td>5318</td>\n      <td>gossipcop-6702260693</td>\n      <td>www.huffingtonpost.com/2012/09/11/september-11...</td>\n      <td>September 11: Celebrities Remember 9/11 (TWEETS)</td>\n      <td>245643768638894080</td>\n      <td>FAKE</td>\n    </tr>\n    <tr>\n      <th>6</th>\n      <td>5319</td>\n      <td>gossipcop-6051845337</td>\n      <td>www.dailymail.co.uk/news/article-4915674/NASCA...</td>\n      <td>NASCAR owners threaten to fire drivers who pro...</td>\n      <td>912048333413330944\\t912048571482087424\\t912049...</td>\n      <td>FAKE</td>\n    </tr>\n    <tr>\n      <th>7</th>\n      <td>5320</td>\n      <td>gossipcop-2435526162</td>\n      <td>www.telegraph.co.uk/men/the-filter/7-signs-dav...</td>\n      <td>The 7 signs that David Beckham is definitely h...</td>\n      <td>897794716447539200\\t897804460830928896\\t897842...</td>\n      <td>FAKE</td>\n    </tr>\n    <tr>\n      <th>8</th>\n      <td>5321</td>\n      <td>gossipcop-4576152851</td>\n      <td>www.vanityfair.com/style/2016/09/ryan-gosling-...</td>\n      <td>Ryan Gosling and Eva Mendes Did Not Get Marrie...</td>\n      <td>778678901572710400\\t778681718714740736\\t778683...</td>\n      <td>FAKE</td>\n    </tr>\n    <tr>\n      <th>9</th>\n      <td>5322</td>\n      <td>gossipcop-919334865</td>\n      <td>www.lifeandstylemag.com/posts/jamie-foxx-katie...</td>\n      <td>Jamie Foxx Spends the Day With Katie Holmes an...</td>\n      <td>913137595424608258\\t913139996059717632\\t913146...</td>\n      <td>FAKE</td>\n    </tr>\n  </tbody>\n</table>\n</div>"
     },
     "metadata": {},
     "execution_count": 10
    }
   ],
   "source": [
    "k.head(10)"
   ]
  },
  {
   "cell_type": "code",
   "execution_count": 11,
   "id": "exempt-criticism",
   "metadata": {},
   "outputs": [
    {
     "output_type": "execute_result",
     "data": {
      "text/plain": [
       "                     id                                           news_url  \\\n",
       "0  gossipcop-2493749932  www.dailymail.co.uk/tvshowbiz/article-5874213/...   \n",
       "1  gossipcop-4580247171  hollywoodlife.com/2018/05/05/paris-jackson-car...   \n",
       "2   gossipcop-941805037  variety.com/2017/biz/news/tax-march-donald-tru...   \n",
       "3  gossipcop-2547891536  www.dailymail.co.uk/femail/article-3499192/Do-...   \n",
       "4  gossipcop-5476631226  variety.com/2018/film/news/list-2018-oscar-nom...   \n",
       "5  gossipcop-5189580095  www.townandcountrymag.com/society/tradition/a1...   \n",
       "6  gossipcop-9588339534  www.foxnews.com/entertainment/2016/12/16/bigge...   \n",
       "7  gossipcop-8753274298  www.eonline.com/news/958257/caitlyn-jenner-add...   \n",
       "8  gossipcop-8105333868  www.inquisitr.com/3871816/taylor-swift-reporte...   \n",
       "9  gossipcop-2803748870  www.huffingtonpost.com/entry/kate-mckinnon-the...   \n",
       "\n",
       "                                               title  \\\n",
       "0  Did Miley Cyrus and Liam Hemsworth secretly ge...   \n",
       "1  Paris Jackson & Cara Delevingne Enjoy Night Ou...   \n",
       "2  Celebrities Join Tax March in Protest of Donal...   \n",
       "3  Cindy Crawford's daughter Kaia Gerber wears a ...   \n",
       "4      Full List of 2018 Oscar Nominations – Variety   \n",
       "5  Here's What Really Happened When JFK Jr. Met P...   \n",
       "6                 Biggest celebrity scandals of 2016   \n",
       "7  Caitlyn Jenner Addresses Rumored Romance With ...   \n",
       "8  Taylor Swift Reportedly Reacts To Tom Hiddlest...   \n",
       "9  For The Love Of God, Why Can't Anyone Write Ka...   \n",
       "\n",
       "                                           tweet_ids label  \n",
       "0  284329075902926848\\t284332744559968256\\t284335...  FAKE  \n",
       "1  992895508267130880\\t992897935418503169\\t992899...  FAKE  \n",
       "2  853359353532829696\\t853359576543920128\\t853359...  FAKE  \n",
       "3  988821905196158981\\t988824206556172288\\t988825...  FAKE  \n",
       "4  955792793632432131\\t955795063925301249\\t955798...  FAKE  \n",
       "5  890253005299351552\\t890401381814870016\\t890491...  FAKE  \n",
       "6  683226380742557696\\t748604615503929345\\t748604...  FAKE  \n",
       "7  1026891446081728512\\t1026891745219543043\\t1026...  FAKE  \n",
       "8  818928533569437697\\t819100640878202880\\t819174...  FAKE  \n",
       "9  816030248190046212\\t816030859484626947\\t816049...  FAKE  "
      ],
      "text/html": "<div>\n<style scoped>\n    .dataframe tbody tr th:only-of-type {\n        vertical-align: middle;\n    }\n\n    .dataframe tbody tr th {\n        vertical-align: top;\n    }\n\n    .dataframe thead th {\n        text-align: right;\n    }\n</style>\n<table border=\"1\" class=\"dataframe\">\n  <thead>\n    <tr style=\"text-align: right;\">\n      <th></th>\n      <th>id</th>\n      <th>news_url</th>\n      <th>title</th>\n      <th>tweet_ids</th>\n      <th>label</th>\n    </tr>\n  </thead>\n  <tbody>\n    <tr>\n      <th>0</th>\n      <td>gossipcop-2493749932</td>\n      <td>www.dailymail.co.uk/tvshowbiz/article-5874213/...</td>\n      <td>Did Miley Cyrus and Liam Hemsworth secretly ge...</td>\n      <td>284329075902926848\\t284332744559968256\\t284335...</td>\n      <td>FAKE</td>\n    </tr>\n    <tr>\n      <th>1</th>\n      <td>gossipcop-4580247171</td>\n      <td>hollywoodlife.com/2018/05/05/paris-jackson-car...</td>\n      <td>Paris Jackson &amp; Cara Delevingne Enjoy Night Ou...</td>\n      <td>992895508267130880\\t992897935418503169\\t992899...</td>\n      <td>FAKE</td>\n    </tr>\n    <tr>\n      <th>2</th>\n      <td>gossipcop-941805037</td>\n      <td>variety.com/2017/biz/news/tax-march-donald-tru...</td>\n      <td>Celebrities Join Tax March in Protest of Donal...</td>\n      <td>853359353532829696\\t853359576543920128\\t853359...</td>\n      <td>FAKE</td>\n    </tr>\n    <tr>\n      <th>3</th>\n      <td>gossipcop-2547891536</td>\n      <td>www.dailymail.co.uk/femail/article-3499192/Do-...</td>\n      <td>Cindy Crawford's daughter Kaia Gerber wears a ...</td>\n      <td>988821905196158981\\t988824206556172288\\t988825...</td>\n      <td>FAKE</td>\n    </tr>\n    <tr>\n      <th>4</th>\n      <td>gossipcop-5476631226</td>\n      <td>variety.com/2018/film/news/list-2018-oscar-nom...</td>\n      <td>Full List of 2018 Oscar Nominations – Variety</td>\n      <td>955792793632432131\\t955795063925301249\\t955798...</td>\n      <td>FAKE</td>\n    </tr>\n    <tr>\n      <th>5</th>\n      <td>gossipcop-5189580095</td>\n      <td>www.townandcountrymag.com/society/tradition/a1...</td>\n      <td>Here's What Really Happened When JFK Jr. Met P...</td>\n      <td>890253005299351552\\t890401381814870016\\t890491...</td>\n      <td>FAKE</td>\n    </tr>\n    <tr>\n      <th>6</th>\n      <td>gossipcop-9588339534</td>\n      <td>www.foxnews.com/entertainment/2016/12/16/bigge...</td>\n      <td>Biggest celebrity scandals of 2016</td>\n      <td>683226380742557696\\t748604615503929345\\t748604...</td>\n      <td>FAKE</td>\n    </tr>\n    <tr>\n      <th>7</th>\n      <td>gossipcop-8753274298</td>\n      <td>www.eonline.com/news/958257/caitlyn-jenner-add...</td>\n      <td>Caitlyn Jenner Addresses Rumored Romance With ...</td>\n      <td>1026891446081728512\\t1026891745219543043\\t1026...</td>\n      <td>FAKE</td>\n    </tr>\n    <tr>\n      <th>8</th>\n      <td>gossipcop-8105333868</td>\n      <td>www.inquisitr.com/3871816/taylor-swift-reporte...</td>\n      <td>Taylor Swift Reportedly Reacts To Tom Hiddlest...</td>\n      <td>818928533569437697\\t819100640878202880\\t819174...</td>\n      <td>FAKE</td>\n    </tr>\n    <tr>\n      <th>9</th>\n      <td>gossipcop-2803748870</td>\n      <td>www.huffingtonpost.com/entry/kate-mckinnon-the...</td>\n      <td>For The Love Of God, Why Can't Anyone Write Ka...</td>\n      <td>816030248190046212\\t816030859484626947\\t816049...</td>\n      <td>FAKE</td>\n    </tr>\n  </tbody>\n</table>\n</div>"
     },
     "metadata": {},
     "execution_count": 11
    }
   ],
   "source": [
    "df_marge = pd.concat([df_fake, df_true], axis =0 )\n",
    "df_marge.head(10)"
   ]
  },
  {
   "cell_type": "code",
   "execution_count": 12,
   "id": "eastern-vitamin",
   "metadata": {},
   "outputs": [
    {
     "output_type": "execute_result",
     "data": {
      "text/plain": [
       "Index(['id', 'news_url', 'title', 'tweet_ids', 'label'], dtype='object')"
      ]
     },
     "metadata": {},
     "execution_count": 12
    }
   ],
   "source": [
    "df_marge.columns"
   ]
  },
  {
   "cell_type": "code",
   "execution_count": 13,
   "id": "flying-roller",
   "metadata": {},
   "outputs": [
    {
     "output_type": "execute_result",
     "data": {
      "text/plain": [
       "                                               title label\n",
       "0  Did Miley Cyrus and Liam Hemsworth secretly ge...  FAKE\n",
       "1  Paris Jackson & Cara Delevingne Enjoy Night Ou...  FAKE\n",
       "2  Celebrities Join Tax March in Protest of Donal...  FAKE\n",
       "3  Cindy Crawford's daughter Kaia Gerber wears a ...  FAKE\n",
       "4      Full List of 2018 Oscar Nominations – Variety  FAKE"
      ],
      "text/html": "<div>\n<style scoped>\n    .dataframe tbody tr th:only-of-type {\n        vertical-align: middle;\n    }\n\n    .dataframe tbody tr th {\n        vertical-align: top;\n    }\n\n    .dataframe thead th {\n        text-align: right;\n    }\n</style>\n<table border=\"1\" class=\"dataframe\">\n  <thead>\n    <tr style=\"text-align: right;\">\n      <th></th>\n      <th>title</th>\n      <th>label</th>\n    </tr>\n  </thead>\n  <tbody>\n    <tr>\n      <th>0</th>\n      <td>Did Miley Cyrus and Liam Hemsworth secretly ge...</td>\n      <td>FAKE</td>\n    </tr>\n    <tr>\n      <th>1</th>\n      <td>Paris Jackson &amp; Cara Delevingne Enjoy Night Ou...</td>\n      <td>FAKE</td>\n    </tr>\n    <tr>\n      <th>2</th>\n      <td>Celebrities Join Tax March in Protest of Donal...</td>\n      <td>FAKE</td>\n    </tr>\n    <tr>\n      <th>3</th>\n      <td>Cindy Crawford's daughter Kaia Gerber wears a ...</td>\n      <td>FAKE</td>\n    </tr>\n    <tr>\n      <th>4</th>\n      <td>Full List of 2018 Oscar Nominations – Variety</td>\n      <td>FAKE</td>\n    </tr>\n  </tbody>\n</table>\n</div>"
     },
     "metadata": {},
     "execution_count": 13
    }
   ],
   "source": [
    "df = df_marge.drop([\"id\", \"tweet_ids\",\"news_url\"], axis = 1)\n",
    "df.head()"
   ]
  },
  {
   "cell_type": "code",
   "execution_count": 14,
   "id": "equipped-scratch",
   "metadata": {},
   "outputs": [
    {
     "output_type": "execute_result",
     "data": {
      "text/plain": [
       "title    0\n",
       "label    0\n",
       "dtype: int64"
      ]
     },
     "metadata": {},
     "execution_count": 14
    }
   ],
   "source": [
    "df.isnull().sum()"
   ]
  },
  {
   "cell_type": "code",
   "execution_count": 15,
   "id": "fleet-geneva",
   "metadata": {},
   "outputs": [],
   "source": [
    "#SHUFFELING\n"
   ]
  },
  {
   "cell_type": "code",
   "execution_count": 16,
   "id": "engaging-february",
   "metadata": {},
   "outputs": [
    {
     "output_type": "execute_result",
     "data": {
      "text/plain": [
       "                                                   title label\n",
       "8603   Gigi Hadid's Makeup Artist Makes Pastel Eye Sh...  TRUE\n",
       "230    Nicole Kidman and Keith Urban Gush Over Daughters  FAKE\n",
       "2166   Heidi Montag And Spencer Pratt Talk Future Pla...  TRUE\n",
       "13837             The Good Fight is coming back in March  TRUE\n",
       "16178  'Outlander': Inside the Making of the Iconic P...  TRUE"
      ],
      "text/html": "<div>\n<style scoped>\n    .dataframe tbody tr th:only-of-type {\n        vertical-align: middle;\n    }\n\n    .dataframe tbody tr th {\n        vertical-align: top;\n    }\n\n    .dataframe thead th {\n        text-align: right;\n    }\n</style>\n<table border=\"1\" class=\"dataframe\">\n  <thead>\n    <tr style=\"text-align: right;\">\n      <th></th>\n      <th>title</th>\n      <th>label</th>\n    </tr>\n  </thead>\n  <tbody>\n    <tr>\n      <th>8603</th>\n      <td>Gigi Hadid's Makeup Artist Makes Pastel Eye Sh...</td>\n      <td>TRUE</td>\n    </tr>\n    <tr>\n      <th>230</th>\n      <td>Nicole Kidman and Keith Urban Gush Over Daughters</td>\n      <td>FAKE</td>\n    </tr>\n    <tr>\n      <th>2166</th>\n      <td>Heidi Montag And Spencer Pratt Talk Future Pla...</td>\n      <td>TRUE</td>\n    </tr>\n    <tr>\n      <th>13837</th>\n      <td>The Good Fight is coming back in March</td>\n      <td>TRUE</td>\n    </tr>\n    <tr>\n      <th>16178</th>\n      <td>'Outlander': Inside the Making of the Iconic P...</td>\n      <td>TRUE</td>\n    </tr>\n  </tbody>\n</table>\n</div>"
     },
     "metadata": {},
     "execution_count": 16
    }
   ],
   "source": [
    "df = df.sample(frac = 1)\n",
    "df.head()"
   ]
  },
  {
   "cell_type": "code",
   "execution_count": 17,
   "id": "skilled-passport",
   "metadata": {},
   "outputs": [],
   "source": [
    "df.reset_index(inplace = True)\n",
    "df.drop([\"index\"], axis = 1, inplace = True)"
   ]
  },
  {
   "cell_type": "code",
   "execution_count": 18,
   "id": "baking-quantity",
   "metadata": {},
   "outputs": [],
   "source": [
    "def wordopt(text):\n",
    "    text = text.lower()\n",
    "    text = re.sub('\\[.*?\\]', '', text)\n",
    "    text = re.sub(\"\\\\W\",\" \",text) \n",
    "    text = re.sub('https?://\\S+|www\\.\\S+', '', text)\n",
    "    text = re.sub('<.*?>+', '', text)\n",
    "    text = re.sub('[%s]' % re.escape(string.punctuation), '', text)\n",
    "    text = re.sub('\\n', '', text)\n",
    "    text = re.sub('\\w*\\d\\w*', '', text)    \n",
    "    return text"
   ]
  },
  {
   "cell_type": "code",
   "execution_count": 19,
   "id": "polished-payday",
   "metadata": {},
   "outputs": [],
   "source": [
    "df[\"title\"] = df[\"title\"].apply(wordopt)"
   ]
  },
  {
   "cell_type": "code",
   "execution_count": 20,
   "id": "outer-armenia",
   "metadata": {},
   "outputs": [],
   "source": [
    "x = df[\"title\"]\n",
    "y = df[\"label\"]"
   ]
  },
  {
   "cell_type": "code",
   "execution_count": 21,
   "id": "further-publicity",
   "metadata": {},
   "outputs": [],
   "source": [
    "x_train, x_test, y_train, y_test = train_test_split(x, y, test_size=0.25, random_state = 0)"
   ]
  },
  {
   "cell_type": "code",
   "execution_count": 22,
   "id": "exceptional-translation",
   "metadata": {},
   "outputs": [],
   "source": [
    "from sklearn.feature_extraction.text import TfidfVectorizer"
   ]
  },
  {
   "cell_type": "code",
   "execution_count": 23,
   "id": "supreme-devil",
   "metadata": {},
   "outputs": [],
   "source": [
    "vectorization = TfidfVectorizer()\n",
    "xv_train = vectorization.fit_transform(x_train)\n",
    "xv_test = vectorization.transform(x_test)"
   ]
  },
  {
   "cell_type": "code",
   "execution_count": 24,
   "id": "olive-reducing",
   "metadata": {},
   "outputs": [],
   "source": [
    "from sklearn.linear_model import LogisticRegression"
   ]
  },
  {
   "cell_type": "code",
   "execution_count": 25,
   "id": "together-palestine",
   "metadata": {},
   "outputs": [
    {
     "output_type": "execute_result",
     "data": {
      "text/plain": [
       "LogisticRegression(C=1.0, class_weight=None, dual=False, fit_intercept=True,\n",
       "                   intercept_scaling=1, l1_ratio=None, max_iter=100,\n",
       "                   multi_class='auto', n_jobs=None, penalty='l2',\n",
       "                   random_state=None, solver='lbfgs', tol=0.0001, verbose=0,\n",
       "                   warm_start=False)"
      ]
     },
     "metadata": {},
     "execution_count": 25
    }
   ],
   "source": [
    "LR=LogisticRegression()\n",
    "LR.fit(xv_train,y_train) "
   ]
  },
  {
   "cell_type": "code",
   "execution_count": 26,
   "id": "illegal-entrance",
   "metadata": {},
   "outputs": [],
   "source": [
    "pred_lr=LR.predict(xv_test)"
   ]
  },
  {
   "cell_type": "code",
   "execution_count": 27,
   "id": "exotic-balloon",
   "metadata": {},
   "outputs": [
    {
     "output_type": "execute_result",
     "data": {
      "text/plain": [
       "0.8437613019891501"
      ]
     },
     "metadata": {},
     "execution_count": 27
    }
   ],
   "source": [
    "LR.score(xv_test, y_test)"
   ]
  },
  {
   "cell_type": "code",
   "execution_count": 28,
   "id": "weekly-gather",
   "metadata": {},
   "outputs": [
    {
     "output_type": "stream",
     "name": "stdout",
     "text": [
      "              precision    recall  f1-score   support\n\n        FAKE       0.79      0.47      0.59      1318\n        TRUE       0.85      0.96      0.90      4212\n\n    accuracy                           0.84      5530\n   macro avg       0.82      0.72      0.75      5530\nweighted avg       0.84      0.84      0.83      5530\n\n"
     ]
    }
   ],
   "source": [
    "print(classification_report(y_test, pred_lr))"
   ]
  },
  {
   "cell_type": "code",
   "execution_count": 29,
   "id": "macro-article",
   "metadata": {},
   "outputs": [],
   "source": [
    "#Decision tree classification"
   ]
  },
  {
   "cell_type": "code",
   "execution_count": 30,
   "id": "backed-swaziland",
   "metadata": {},
   "outputs": [],
   "source": [
    "from sklearn.tree import DecisionTreeClassifier"
   ]
  },
  {
   "cell_type": "code",
   "execution_count": 31,
   "id": "composite-tsunami",
   "metadata": {},
   "outputs": [
    {
     "output_type": "execute_result",
     "data": {
      "text/plain": [
       "DecisionTreeClassifier(ccp_alpha=0.0, class_weight=None, criterion='gini',\n",
       "                       max_depth=None, max_features=None, max_leaf_nodes=None,\n",
       "                       min_impurity_decrease=0.0, min_impurity_split=None,\n",
       "                       min_samples_leaf=1, min_samples_split=2,\n",
       "                       min_weight_fraction_leaf=0.0, presort='deprecated',\n",
       "                       random_state=None, splitter='best')"
      ]
     },
     "metadata": {},
     "execution_count": 31
    }
   ],
   "source": [
    "DT = DecisionTreeClassifier()\n",
    "DT.fit(xv_train, y_train)"
   ]
  },
  {
   "cell_type": "code",
   "execution_count": 32,
   "id": "christian-drink",
   "metadata": {},
   "outputs": [],
   "source": [
    "pred_dt = DT.predict(xv_test)"
   ]
  },
  {
   "cell_type": "code",
   "execution_count": 33,
   "id": "assigned-mirror",
   "metadata": {},
   "outputs": [
    {
     "output_type": "execute_result",
     "data": {
      "text/plain": [
       "0.7853526220614828"
      ]
     },
     "metadata": {},
     "execution_count": 33
    }
   ],
   "source": [
    "DT.score(xv_test, y_test)"
   ]
  },
  {
   "cell_type": "code",
   "execution_count": 34,
   "id": "sunrise-glory",
   "metadata": {},
   "outputs": [
    {
     "output_type": "stream",
     "name": "stdout",
     "text": [
      "              precision    recall  f1-score   support\n\n        FAKE       0.55      0.54      0.55      1318\n        TRUE       0.86      0.86      0.86      4212\n\n    accuracy                           0.79      5530\n   macro avg       0.70      0.70      0.70      5530\nweighted avg       0.78      0.79      0.78      5530\n\n"
     ]
    }
   ],
   "source": [
    "print(classification_report(y_test, pred_dt))"
   ]
  },
  {
   "cell_type": "code",
   "execution_count": 35,
   "id": "bored-environment",
   "metadata": {},
   "outputs": [],
   "source": [
    "### Gradient Boosting Classifier"
   ]
  },
  {
   "cell_type": "code",
   "execution_count": 36,
   "id": "dimensional-fountain",
   "metadata": {},
   "outputs": [],
   "source": [
    "from sklearn.ensemble import GradientBoostingClassifier"
   ]
  },
  {
   "cell_type": "code",
   "execution_count": 37,
   "id": "irish-contact",
   "metadata": {},
   "outputs": [
    {
     "output_type": "execute_result",
     "data": {
      "text/plain": [
       "GradientBoostingClassifier(ccp_alpha=0.0, criterion='friedman_mse', init=None,\n",
       "                           learning_rate=0.1, loss='deviance', max_depth=3,\n",
       "                           max_features=None, max_leaf_nodes=None,\n",
       "                           min_impurity_decrease=0.0, min_impurity_split=None,\n",
       "                           min_samples_leaf=1, min_samples_split=2,\n",
       "                           min_weight_fraction_leaf=0.0, n_estimators=100,\n",
       "                           n_iter_no_change=None, presort='deprecated',\n",
       "                           random_state=0, subsample=1.0, tol=0.0001,\n",
       "                           validation_fraction=0.1, verbose=0,\n",
       "                           warm_start=False)"
      ]
     },
     "metadata": {},
     "execution_count": 37
    }
   ],
   "source": [
    "GBC = GradientBoostingClassifier(random_state=0)\n",
    "GBC.fit(xv_train, y_train)"
   ]
  },
  {
   "cell_type": "code",
   "execution_count": 38,
   "id": "sustained-trust",
   "metadata": {},
   "outputs": [],
   "source": [
    "pred_gbc = GBC.predict(xv_test)"
   ]
  },
  {
   "cell_type": "code",
   "execution_count": 39,
   "id": "professional-airplane",
   "metadata": {},
   "outputs": [
    {
     "output_type": "execute_result",
     "data": {
      "text/plain": [
       "0.8188065099457504"
      ]
     },
     "metadata": {},
     "execution_count": 39
    }
   ],
   "source": [
    "GBC.score(xv_test, y_test)"
   ]
  },
  {
   "cell_type": "code",
   "execution_count": 40,
   "id": "broke-female",
   "metadata": {},
   "outputs": [
    {
     "output_type": "stream",
     "name": "stdout",
     "text": [
      "              precision    recall  f1-score   support\n\n        FAKE       0.80      0.32      0.46      1318\n        TRUE       0.82      0.98      0.89      4212\n\n    accuracy                           0.82      5530\n   macro avg       0.81      0.65      0.67      5530\nweighted avg       0.82      0.82      0.79      5530\n\n"
     ]
    }
   ],
   "source": [
    "print(classification_report(y_test, pred_gbc))"
   ]
  },
  {
   "cell_type": "code",
   "execution_count": 41,
   "id": "employed-democracy",
   "metadata": {},
   "outputs": [],
   "source": [
    "### Random Forest Classifier"
   ]
  },
  {
   "cell_type": "code",
   "execution_count": 42,
   "id": "owned-assumption",
   "metadata": {},
   "outputs": [],
   "source": [
    "from sklearn.ensemble import RandomForestClassifier"
   ]
  },
  {
   "cell_type": "code",
   "execution_count": 43,
   "id": "accessory-haven",
   "metadata": {},
   "outputs": [
    {
     "output_type": "execute_result",
     "data": {
      "text/plain": [
       "RandomForestClassifier(bootstrap=True, ccp_alpha=0.0, class_weight=None,\n",
       "                       criterion='gini', max_depth=None, max_features='auto',\n",
       "                       max_leaf_nodes=None, max_samples=None,\n",
       "                       min_impurity_decrease=0.0, min_impurity_split=None,\n",
       "                       min_samples_leaf=1, min_samples_split=2,\n",
       "                       min_weight_fraction_leaf=0.0, n_estimators=100,\n",
       "                       n_jobs=None, oob_score=False, random_state=0, verbose=0,\n",
       "                       warm_start=False)"
      ]
     },
     "metadata": {},
     "execution_count": 43
    }
   ],
   "source": [
    "RFC = RandomForestClassifier(random_state=0)\n",
    "RFC.fit(xv_train, y_train)"
   ]
  },
  {
   "cell_type": "code",
   "execution_count": 44,
   "id": "identical-perfume",
   "metadata": {},
   "outputs": [],
   "source": [
    "pred_rfc = RFC.predict(xv_test)"
   ]
  },
  {
   "cell_type": "code",
   "execution_count": 45,
   "id": "animal-accessory",
   "metadata": {},
   "outputs": [
    {
     "output_type": "execute_result",
     "data": {
      "text/plain": [
       "0.8361663652802893"
      ]
     },
     "metadata": {},
     "execution_count": 45
    }
   ],
   "source": [
    "RFC.score(xv_test, y_test)"
   ]
  },
  {
   "cell_type": "code",
   "execution_count": 46,
   "id": "analyzed-michigan",
   "metadata": {},
   "outputs": [
    {
     "output_type": "stream",
     "name": "stdout",
     "text": [
      "              precision    recall  f1-score   support\n\n        FAKE       0.74      0.48      0.58      1318\n        TRUE       0.85      0.95      0.90      4212\n\n    accuracy                           0.84      5530\n   macro avg       0.80      0.71      0.74      5530\nweighted avg       0.83      0.84      0.82      5530\n\n"
     ]
    }
   ],
   "source": [
    "print(classification_report(y_test, pred_rfc))"
   ]
  },
  {
   "cell_type": "code",
   "execution_count": null,
   "id": "fifteen-carter",
   "metadata": {},
   "outputs": [],
   "source": []
  },
  {
   "cell_type": "code",
   "execution_count": 47,
   "id": "laden-shore",
   "metadata": {},
   "outputs": [],
   "source": [
    "def output_lable(n):\n",
    "    if n == 0:\n",
    "        return \"Fake News\"\n",
    "    elif n == 1:\n",
    "        return \"Not A Fake News\"\n",
    "    \n",
    "def manual_testing(news):\n",
    "    testing_news = {\"text\":[news]}\n",
    "    new_def_test = pd.DataFrame(testing_news)\n",
    "    new_def_test[\"text\"] = new_def_test[\"text\"].apply(wordopt) \n",
    "    new_x_test = new_def_test[\"text\"]\n",
    "    new_xv_test = vectorization.transform(new_x_test)\n",
    "    pred_LR = LR.predict(new_xv_test)\n",
    "    pred_DT = DT.predict(new_xv_test)\n",
    "    pred_GBC = GBC.predict(new_xv_test)\n",
    "    pred_RFC = RFC.predict(new_xv_test)\n",
    "\n",
    "    return print(\"\\n\\nLR Prediction: {} \\nDT Prediction: {} \\nGBC Prediction: {} \\nRFC Prediction: {}\".format(output_lable(pred_LR[0]), \n",
    "                                                                                                              output_lable(pred_DT[0]), \n",
    "                                                                                                              output_lable(pred_GBC[0]), \n",
    "                                                                                                              output_lable(pred_RFC[0])))"
   ]
  },
  {
   "cell_type": "code",
   "execution_count": 48,
   "id": "considered-cover",
   "metadata": {},
   "outputs": [
    {
     "name": "stdout",
     "output_type": "stream",
     "text": [
      "After last week's shock announcement that Kylie Jenner wasn't just very much pregnant, she had actually birthed a real human child, the world went wild speculating on what the baby's name was going to be.  We know now that Kylie's daughter is called Stormi Webster, but until that record-breaking announcement came, the most convincing theory was that the new baby was going to be called something butterfly-related. Eagle-eyed fans spotted all sorts of butterfly references in the 11-minute long announcement video, and it all seemed very plausible.\n",
      "\n",
      "\n",
      "LR Prediction: Not A Fake News \n",
      "DT Prediction: Not A Fake News \n",
      "GBC Prediction: Not A Fake News \n",
      "RFC Prediction: Not A Fake News\n"
     ]
    }
   ],
   "source": [
    "news = str(input())\n",
    "manual_testing(news)"
   ]
  },
  {
   "cell_type": "code",
   "execution_count": null,
   "id": "absolute-scale",
   "metadata": {},
   "outputs": [],
   "source": []
  },
  {
   "cell_type": "code",
   "execution_count": null,
   "id": "mediterranean-failing",
   "metadata": {},
   "outputs": [],
   "source": []
  }
 ],
 "metadata": {
  "kernelspec": {
   "name": "python372jvsc74a57bd02d21f6ddfba66f5c57e78a1dace097aa35bba2ebc5218d3c9da14608b6a937b3",
   "display_name": "Python 3.7.2 64-bit"
  },
  "language_info": {
   "codemirror_mode": {
    "name": "ipython",
    "version": 3
   },
   "file_extension": ".py",
   "mimetype": "text/x-python",
   "name": "python",
   "nbconvert_exporter": "python",
   "pygments_lexer": "ipython3",
   "version": "3.7.2"
  }
 },
 "nbformat": 4,
 "nbformat_minor": 5
}